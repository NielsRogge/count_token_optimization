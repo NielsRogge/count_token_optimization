{
 "cells": [
  {
   "cell_type": "markdown",
   "source": [
    "# Evaluate token reuse"
   ],
   "metadata": {
    "collapsed": false
   },
   "id": "9c5d35c2e36bcc23"
  },
  {
   "cell_type": "markdown",
   "source": [
    "## Imports"
   ],
   "metadata": {
    "collapsed": false
   },
   "id": "2c84b1c4449b0a52"
  },
  {
   "cell_type": "code",
   "execution_count": 1,
   "outputs": [],
   "source": [
    "from math import sqrt\n",
    "import pandas as pd\n",
    "from matplotlib import pyplot as plt\n",
    "import seaborn as sns"
   ],
   "metadata": {
    "collapsed": false,
    "ExecuteTime": {
     "end_time": "2024-08-16T07:51:09.141503500Z",
     "start_time": "2024-08-16T07:51:09.136428900Z"
    }
   },
   "id": "77cfdda399c84d41"
  },
  {
   "cell_type": "markdown",
   "source": [
    "## Evaluate token reuse to in domain classes"
   ],
   "metadata": {
    "collapsed": false
   },
   "id": "90f3b276a817babf"
  },
  {
   "cell_type": "code",
   "execution_count": 2,
   "outputs": [
    {
     "data": {
      "text/plain": "   Category  SD MAE (clipcount)  Ours MAE (clipcount)  SD RMSE (clipcount)  \\\n0  In-Class           20.294652              9.571355            29.293537   \n\n   Ours RMSE (clipcount)  \n0              12.883403  ",
      "text/html": "<div>\n<style scoped>\n    .dataframe tbody tr th:only-of-type {\n        vertical-align: middle;\n    }\n\n    .dataframe tbody tr th {\n        vertical-align: top;\n    }\n\n    .dataframe thead th {\n        text-align: right;\n    }\n</style>\n<table border=\"1\" class=\"dataframe\">\n  <thead>\n    <tr style=\"text-align: right;\">\n      <th></th>\n      <th>Category</th>\n      <th>SD MAE (clipcount)</th>\n      <th>Ours MAE (clipcount)</th>\n      <th>SD RMSE (clipcount)</th>\n      <th>Ours RMSE (clipcount)</th>\n    </tr>\n  </thead>\n  <tbody>\n    <tr>\n      <th>0</th>\n      <td>In-Class</td>\n      <td>20.294652</td>\n      <td>9.571355</td>\n      <td>29.293537</td>\n      <td>12.883403</td>\n    </tr>\n  </tbody>\n</table>\n</div>"
     },
     "execution_count": 2,
     "metadata": {},
     "output_type": "execute_result"
    }
   ],
   "source": [
    "inclass_df = pd.read_pickle(f\"../experiments/experiment_reuse-experiment-inclass-eval-1.pkl\")\n",
    "\n",
    "inclass_agg_df = pd.DataFrame ([\n",
    "    {\n",
    "        'Category': 'In-Class',\n",
    "        'SD MAE (clipcount)' : inclass_df['sd_count_diff'].mean(),\n",
    "        'Ours MAE (clipcount)' : inclass_df['sd_optimized_count_diff'].mean(),\n",
    "        'SD RMSE (clipcount)' : sqrt((inclass_df['sd_count_diff'] ** 2).mean()),\n",
    "        'Ours RMSE (clipcount)' : sqrt((inclass_df['sd_optimized_count_diff'] ** 2).mean()),\n",
    "    }\n",
    "])\n",
    "\n",
    "inclass_agg_df"
   ],
   "metadata": {
    "collapsed": false,
    "ExecuteTime": {
     "end_time": "2024-08-16T07:51:09.173497700Z",
     "start_time": "2024-08-16T07:51:09.141503500Z"
    }
   },
   "id": "5bb08206dd5f1565"
  },
  {
   "cell_type": "markdown",
   "source": [
    "## Evaluate token reuse to in domain classes"
   ],
   "metadata": {
    "collapsed": false
   },
   "id": "4def6dfac2696369"
  },
  {
   "cell_type": "code",
   "execution_count": 3,
   "outputs": [
    {
     "data": {
      "text/plain": "    Category       MAE      RMSE\n0  In-Domain  6.106306  7.070282",
      "text/html": "<div>\n<style scoped>\n    .dataframe tbody tr th:only-of-type {\n        vertical-align: middle;\n    }\n\n    .dataframe tbody tr th {\n        vertical-align: top;\n    }\n\n    .dataframe thead th {\n        text-align: right;\n    }\n</style>\n<table border=\"1\" class=\"dataframe\">\n  <thead>\n    <tr style=\"text-align: right;\">\n      <th></th>\n      <th>Category</th>\n      <th>MAE</th>\n      <th>RMSE</th>\n    </tr>\n  </thead>\n  <tbody>\n    <tr>\n      <th>0</th>\n      <td>In-Domain</td>\n      <td>6.106306</td>\n      <td>7.070282</td>\n    </tr>\n  </tbody>\n</table>\n</div>"
     },
     "execution_count": 3,
     "metadata": {},
     "output_type": "execute_result"
    }
   ],
   "source": [
    "indomain_df = pd.read_pickle(f\"../experiments/experiment_reuse-experiment-indomain-eval-1.pkl\")\n",
    "\n",
    "indomain_agg_df = pd.DataFrame ([\n",
    "    {\n",
    "        'Category': 'In-Domain',\n",
    "        'MAE' : indomain_df['sd_optimized_count_diff'].mean(),\n",
    "        'RMSE' : sqrt((indomain_df['sd_optimized_count_diff'] ** 2).mean()),\n",
    "    }\n",
    "])\n",
    "\n",
    "indomain_agg_df"
   ],
   "metadata": {
    "collapsed": false,
    "ExecuteTime": {
     "end_time": "2024-08-16T07:51:09.198690800Z",
     "start_time": "2024-08-16T07:51:09.173497700Z"
    }
   },
   "id": "b68cc411019be7f4"
  },
  {
   "cell_type": "markdown",
   "source": [
    "## Evaluate token reuse to out domain classes"
   ],
   "metadata": {
    "collapsed": false
   },
   "id": "fc8af0894a7687b9"
  },
  {
   "cell_type": "code",
   "execution_count": 4,
   "outputs": [
    {
     "data": {
      "text/plain": "        Category       MAE      RMSE\n0  Out-of-Domain  6.612103  8.106641",
      "text/html": "<div>\n<style scoped>\n    .dataframe tbody tr th:only-of-type {\n        vertical-align: middle;\n    }\n\n    .dataframe tbody tr th {\n        vertical-align: top;\n    }\n\n    .dataframe thead th {\n        text-align: right;\n    }\n</style>\n<table border=\"1\" class=\"dataframe\">\n  <thead>\n    <tr style=\"text-align: right;\">\n      <th></th>\n      <th>Category</th>\n      <th>MAE</th>\n      <th>RMSE</th>\n    </tr>\n  </thead>\n  <tbody>\n    <tr>\n      <th>0</th>\n      <td>Out-of-Domain</td>\n      <td>6.612103</td>\n      <td>8.106641</td>\n    </tr>\n  </tbody>\n</table>\n</div>"
     },
     "execution_count": 4,
     "metadata": {},
     "output_type": "execute_result"
    }
   ],
   "source": [
    "outdomain_df = pd.read_pickle(f\"../experiments/experiment_reuse-experiment-outdomain-eval-1.pkl\")\n",
    "\n",
    "outdomain_agg_df = pd.DataFrame ([\n",
    "    {\n",
    "        'Category': 'Out-of-Domain',\n",
    "        'MAE' : outdomain_df['sd_optimized_count_diff'].mean(),\n",
    "        'RMSE' : sqrt((outdomain_df['sd_optimized_count_diff'] ** 2).mean()),\n",
    "    }\n",
    "])\n",
    "\n",
    "outdomain_agg_df"
   ],
   "metadata": {
    "collapsed": false,
    "ExecuteTime": {
     "end_time": "2024-08-16T07:51:09.292574Z",
     "start_time": "2024-08-16T07:51:09.198690800Z"
    }
   },
   "id": "d705991f244ac5fb"
  },
  {
   "cell_type": "code",
   "execution_count": 22,
   "outputs": [
    {
     "data": {
      "text/plain": "<Figure size 1000x600 with 1 Axes>",
      "image/png": "[encoded data removed]"
     },
     "metadata": {},
     "output_type": "display_data"
    }
   ],
   "source": [
    "sd_indomain_mae = indomain_df['sd_count_diff'].mean() # same for out-domain\n",
    "sd_indomain_rmse = sqrt((indomain_df['sd_count_diff'] ** 2).mean()) # same for out-domain\n",
    "\n",
    "\n",
    "# Combine the dataframes\n",
    "combined_df = pd.concat([indomain_agg_df, outdomain_agg_df])\n",
    "\n",
    "# Melt the dataframe for easier plotting\n",
    "melted_df = combined_df.melt(id_vars='Category', var_name='Metric', value_name='Value')\n",
    "\n",
    "# Create the first bar plot for 'clipcount' metrics\n",
    "plt.figure(figsize=(10, 6))\n",
    "sns.set(style=\"whitegrid\", font_scale=1.4)\n",
    "ax = sns.barplot(data=melted_df, x='Category', y='Value', hue='Metric')\n",
    "\n",
    "for p in ax.patches[:-2]:\n",
    "    ax.annotate(f'{p.get_height():.2f}', \n",
    "                (p.get_x() + p.get_width() / 2., p.get_height()), \n",
    "                ha='center', va='center', \n",
    "                xytext=(0, 9), textcoords='offset points', color='black')\n",
    "\n",
    "plt.axhline(y=sd_indomain_mae, color='#1f77b4', linestyle='--', linewidth=2, label='SD MAE')\n",
    "plt.axhline(y=sd_indomain_rmse, color='orange', linestyle='--', linewidth=2, label='SD RMSE')\n",
    "# plt.title('Token reuse')\n",
    "plt.ylabel('Value')\n",
    "plt.xlabel('')\n",
    "plt.xticks(rotation=0)\n",
    "plt.legend()\n",
    "\n",
    "plt.savefig('../figures/token_reuse_experiment.pdf', dpi=300, bbox_inches='tight')\n",
    "plt.show()"
   ],
   "metadata": {
    "collapsed": false,
    "ExecuteTime": {
     "end_time": "2024-08-16T08:05:04.523403300Z",
     "start_time": "2024-08-16T08:05:03.899174400Z"
    }
   },
   "id": "95a396713a86e271"
  },
  {
   "cell_type": "code",
   "execution_count": 5,
   "outputs": [],
   "source": [],
   "metadata": {
    "collapsed": false,
    "ExecuteTime": {
     "end_time": "2024-08-16T07:51:09.775401Z",
     "start_time": "2024-08-16T07:51:09.775401Z"
    }
   },
   "id": "d44144617d244018"
  }
 ],
 "metadata": {
  "kernelspec": {
   "display_name": "Python 3",
   "language": "python",
   "name": "python3"
  },
  "language_info": {
   "codemirror_mode": {
    "name": "ipython",
    "version": 2
   },
   "file_extension": ".py",
   "mimetype": "text/x-python",
   "name": "python",
   "nbconvert_exporter": "python",
   "pygments_lexer": "ipython2",
   "version": "2.7.6"
  }
 },
 "nbformat": 4,
 "nbformat_minor": 5
}
